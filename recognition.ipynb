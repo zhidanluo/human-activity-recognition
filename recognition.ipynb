{
  "nbformat": 4,
  "nbformat_minor": 0,
  "metadata": {
    "colab": {
      "name": "recognition.ipynb",
      "provenance": [],
      "collapsed_sections": []
    },
    "kernelspec": {
      "name": "python3",
      "display_name": "Python 3"
    },
    "accelerator": "GPU"
  },
  "cells": [
    {
      "cell_type": "markdown",
      "metadata": {
        "id": "O2ieg_PxXZpJ",
        "colab_type": "text"
      },
      "source": [
        "author: Zhidan Luo\n",
        "\n",
        "CPE 7993 - Independent study\n",
        "\n",
        "Project: Recognition of human activities"
      ]
    },
    {
      "cell_type": "code",
      "metadata": {
        "id": "4RtrTSDeW2y3",
        "colab_type": "code",
        "outputId": "b2addf0c-a0cb-4dc0-a520-ad647b0a7452",
        "colab": {
          "base_uri": "https://localhost:8080/",
          "height": 34
        }
      },
      "source": [
        "__author__ = 'Zhidan Luo'\n",
        "\n",
        "# General imports\n",
        "import numpy as np\n",
        "import pandas as pd\n",
        "import matplotlib.pyplot as plt\n",
        "from sklearn.utils import shuffle\n",
        "\n",
        "# SVM\n",
        "from sklearn.svm import SVC\n",
        "\n",
        "# PCA\n",
        "from sklearn.decomposition import PCA\n",
        "\n",
        "# kFOLD and gridSearch\n",
        "from sklearn.model_selection import StratifiedKFold\n",
        "from sklearn.model_selection import GridSearchCV\n",
        "from sklearn import metrics\n",
        "\n",
        "# Google Colab stuff\n",
        "from google.colab import drive\n",
        "drive.mount('/content/drive')"
      ],
      "execution_count": 49,
      "outputs": [
        {
          "output_type": "stream",
          "text": [
            "Drive already mounted at /content/drive; to attempt to forcibly remount, call drive.mount(\"/content/drive\", force_remount=True).\n"
          ],
          "name": "stdout"
        }
      ]
    },
    {
      "cell_type": "code",
      "metadata": {
        "id": "fkfUkDaMXeaG",
        "colab_type": "code",
        "colab": {}
      },
      "source": [
        "def load_data(csv_file_path, train_mode = False):\n",
        "    dataframe = pd.read_csv(csv_file_path)\n",
        "    if train_mode:\n",
        "      dataframe = shuffle(dataframe)\n",
        "    dataframe = dataframe.replace(' ?',np.NaN).fillna(method = 'bfill')    \n",
        "    data = dataframe.values\n",
        "    x = data[:, 1:].astype('float32')\n",
        "    y = data[:, 0].astype(int) - 1\n",
        "    \n",
        "    return x, y\n",
        "\n",
        "\n",
        "def pca(x_train, y_train, x_test, y_test, n_components):\n",
        "    pca = PCA(n_components = n_components)\n",
        "    pca.fit(x_train)\n",
        "    x_train = pca.transform(x_train)\n",
        "    x_test = pca.transform(x_test)\n",
        "    return x_train, y_train, x_test, y_test\n",
        "\n",
        "\n",
        "def predict(x_test, y_test, trained_model):\n",
        "    predictions = trained_model.predict(x_test)\n",
        "\n",
        "    loss = metrics.zero_one_loss(predictions, y_test)\n",
        "    acc = metrics.accuracy_score(predictions, y_test)\n",
        "\n",
        "    print(\"testing loss: %.4f\" % loss)\n",
        "    print(\"testing accuracy: %.4f\" % acc)\n",
        "\n",
        "    return predictions, loss, acc"
      ],
      "execution_count": 0,
      "outputs": []
    },
    {
      "cell_type": "code",
      "metadata": {
        "id": "ZeguO7NyNka2",
        "colab_type": "code",
        "colab": {}
      },
      "source": [
        "def train_svm(x_train, y_train, n_components):\n",
        "        \n",
        "    svm_classifier = SVC()\n",
        "    \n",
        "    parameter_grid = {'kernel': ['linear', 'poly', 'rbf', 'sigmoid'],\n",
        "                  'C': [10**i for i in range(-1,2)],\n",
        "                  'degree': [2*i+1 for i in range(5)],\n",
        "                  'gamma': ['auto']}\n",
        "    \n",
        "    skf = StratifiedKFold(n_splits = nfolds)\n",
        "    cross_validation = skf.get_n_splits(x_train, y_train)\n",
        "    \n",
        "    grid_search = GridSearchCV(svm_classifier, \n",
        "                               param_grid = parameter_grid,\n",
        "                               cv = cross_validation,\n",
        "                               n_jobs = -1,\n",
        "                               verbose = 0)\n",
        "    grid_search.fit(x_train, y_train)\n",
        "    \n",
        "    print(\"Pricipal components number: \", n_components)\n",
        "    print(\"Best param:\", grid_search.best_params_)\n",
        "    \n",
        "    best_model = SVC(**grid_search.best_params_)\n",
        "    best_model.fit(x_train, y_train)\n",
        "    predictions = best_model.predict(x_train)\n",
        "    training_loss = metrics.zero_one_loss(predictions, y_train)\n",
        "    training_acc = metrics.accuracy_score(predictions, y_train)\n",
        "    print(\"training loss: %.6f\" % training_loss)\n",
        "    print(\"training accurancy: %.6f\" % training_acc)\n",
        "\n",
        "    return best_model, grid_search.best_params_, training_loss, training_acc"
      ],
      "execution_count": 0,
      "outputs": []
    },
    {
      "cell_type": "code",
      "metadata": {
        "id": "gHHIIb_vcF8v",
        "colab_type": "code",
        "colab": {}
      },
      "source": [
        "def get_predictions(training_csv, testing_csv, n_components_list, show = True):\n",
        "\n",
        "  train_accuracy = []\n",
        "  train_loss = []\n",
        "  test_accuracy = []\n",
        "  test_loss = []\n",
        "  best_n = 0\n",
        "  best_acc = 0\n",
        "  best_params = 0\n",
        "  best_predictions = 0\n",
        "\n",
        "  for n_components in n_components_list:\n",
        "    x_train, y_train = load_data(training_csv, train_mode = True)\n",
        "    x_test, y_test = load_data(testing_csv)\n",
        "\n",
        "    x_train, y_train, x_test, y_test = pca(x_train, y_train, \n",
        "                                           x_test, y_test,\n",
        "                                           n_components = n_components)\n",
        "    trained_model, params, training_loss, training_acc = train_svm(x_train, y_train, n_components)\n",
        "    predictions, loss, acc = predict(x_test, y_test, trained_model)\n",
        "\n",
        "    train_accuracy.append(training_acc)\n",
        "    train_loss.append(training_loss)\n",
        "    test_accuracy.append(acc)\n",
        "    test_loss.append(loss)\n",
        "\n",
        "    if acc > best_acc:\n",
        "      besy_acc = acc\n",
        "      best_n = n_components\n",
        "      best_params = params\n",
        "      best_predictions = predictions\n",
        "\n",
        "  if show:\n",
        "    plot(train_accuracy, train_loss, test_accuracy, test_loss, n_components_list)\n",
        "\n",
        "  return best_predictions\n",
        "\n",
        "\n",
        "def plot(train_accuracy, train_loss, test_accuracy, test_loss, n_components_list):\n",
        "  # plot\n",
        "  plt.plot(n_components_list,train_loss, label='training loss')\n",
        "  plt.plot(n_components_list,test_loss, label='testing loss')\n",
        "  plt.xlabel(\"n_components\")\n",
        "  plt.ylabel(\"loss\")\n",
        "  plt.legend(loc='best')\n",
        "  plt.grid(True)\n",
        "  plt.title('training loss and tesing loss vs. n_components')\n",
        "  plt.show()\n",
        "\n",
        "  plt.plot(n_components_list,train_accuracy, label='training accuracy')\n",
        "  plt.plot(n_components_list,test_accuracy, label='tesing accuracy')\n",
        "  plt.xlabel(\"n_components\")\n",
        "  plt.ylabel(\"accuracy\")\n",
        "  plt.legend(loc='best')\n",
        "  plt.grid(True)\n",
        "  plt.title('training accuracy and validation accuracy vs. n_components')\n",
        "  plt.show()    \n",
        "      "
      ],
      "execution_count": 0,
      "outputs": []
    },
    {
      "cell_type": "markdown",
      "metadata": {
        "id": "uPfB5kgadYfn",
        "colab_type": "text"
      },
      "source": [
        "Main method. Make sure the file paths here point to the correct place in your google drive."
      ]
    },
    {
      "cell_type": "code",
      "metadata": {
        "id": "7BEZTSQ_dcim",
        "colab_type": "code",
        "colab": {
          "base_uri": "https://localhost:8080/",
          "height": 1000
        },
        "outputId": "dbde3bc8-3503-4b6a-e40e-c2491a1caf99"
      },
      "source": [
        "if __name__ == '__main__':\n",
        "\n",
        "    # load data and preprocess from filename\n",
        "    training_csv = '/content/drive/My Drive/cpe7993/humanActivityRecognition/activity_train.csv'\n",
        "    testing_csv = '/content/drive/My Drive/cpe7993/humanActivityRecognition/activity_test.csv'\n",
        "    x_train, y_train = load_data(training_csv, train_mode = True)\n",
        "\n",
        "    nfolds = 4\n",
        "    n_components_list = [int(0.1*(i+1)*x_train.shape[1]) for i in range(10)]\n",
        "\n",
        "    predictions = get_predictions(training_csv, testing_csv, \n",
        "                                  n_components_list, show = True)\n",
        "\n"
      ],
      "execution_count": 53,
      "outputs": [
        {
          "output_type": "stream",
          "text": [
            "Pricipal components number:  56\n",
            "Best param: {'C': 10, 'degree': 1, 'gamma': 'auto', 'kernel': 'rbf'}\n",
            "training loss: 0.009929\n",
            "training accurancy: 0.990071\n",
            "testing loss: 0.0580\n",
            "testing accuracy: 0.9420\n",
            "Pricipal components number:  112\n",
            "Best param: {'C': 10, 'degree': 1, 'gamma': 'auto', 'kernel': 'rbf'}\n",
            "training loss: 0.007889\n",
            "training accurancy: 0.992111\n",
            "testing loss: 0.0512\n",
            "testing accuracy: 0.9488\n",
            "Pricipal components number:  168\n",
            "Best param: {'C': 1, 'degree': 1, 'gamma': 'auto', 'kernel': 'linear'}\n",
            "training loss: 0.007481\n",
            "training accurancy: 0.992519\n",
            "testing loss: 0.0383\n",
            "testing accuracy: 0.9617\n",
            "Pricipal components number:  224\n",
            "Best param: {'C': 1, 'degree': 1, 'gamma': 'auto', 'kernel': 'linear'}\n",
            "training loss: 0.006937\n",
            "training accurancy: 0.993063\n",
            "testing loss: 0.0373\n",
            "testing accuracy: 0.9627\n",
            "Pricipal components number:  280\n",
            "Best param: {'C': 1, 'degree': 1, 'gamma': 'auto', 'kernel': 'linear'}\n",
            "training loss: 0.006529\n",
            "training accurancy: 0.993471\n",
            "testing loss: 0.0360\n",
            "testing accuracy: 0.9640\n",
            "Pricipal components number:  336\n",
            "Best param: {'C': 1, 'degree': 1, 'gamma': 'auto', 'kernel': 'linear'}\n",
            "training loss: 0.006393\n",
            "training accurancy: 0.993607\n",
            "testing loss: 0.0353\n",
            "testing accuracy: 0.9647\n",
            "Pricipal components number:  392\n",
            "Best param: {'C': 1, 'degree': 1, 'gamma': 'auto', 'kernel': 'linear'}\n",
            "training loss: 0.006121\n",
            "training accurancy: 0.993879\n",
            "testing loss: 0.0360\n",
            "testing accuracy: 0.9640\n",
            "Pricipal components number:  448\n",
            "Best param: {'C': 1, 'degree': 1, 'gamma': 'auto', 'kernel': 'linear'}\n",
            "training loss: 0.006121\n",
            "training accurancy: 0.993879\n",
            "testing loss: 0.0360\n",
            "testing accuracy: 0.9640\n",
            "Pricipal components number:  504\n",
            "Best param: {'C': 1, 'degree': 1, 'gamma': 'auto', 'kernel': 'linear'}\n",
            "training loss: 0.006121\n",
            "training accurancy: 0.993879\n",
            "testing loss: 0.0360\n",
            "testing accuracy: 0.9640\n",
            "Pricipal components number:  561\n",
            "Best param: {'C': 1, 'degree': 1, 'gamma': 'auto', 'kernel': 'linear'}\n",
            "training loss: 0.006121\n",
            "training accurancy: 0.993879\n",
            "testing loss: 0.0360\n",
            "testing accuracy: 0.9640\n"
          ],
          "name": "stdout"
        },
        {
          "output_type": "display_data",
          "data": {
            "image/png": "[encoded data removed]",
            "text/plain": [
              "<Figure size 432x288 with 1 Axes>"
            ]
          },
          "metadata": {
            "tags": []
          }
        },
        {
          "output_type": "display_data",
          "data": {
            "image/png": "[encoded data removed]",
            "text/plain": [
              "<Figure size 432x288 with 1 Axes>"
            ]
          },
          "metadata": {
            "tags": []
          }
        }
      ]
    }
  ]
}